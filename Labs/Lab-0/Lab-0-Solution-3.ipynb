{
 "cells": [
  {
   "cell_type": "markdown",
   "metadata": {},
   "source": [
    "# Applications of Deep Learning to High Energy Physics\n",
    "## Lab 0- Getting Started\n",
    "\n",
    "\n",
    "### Introduction- Jupyter Basics\n",
    "\n",
    "If you are seeing this page, you have successfully connected to our python server via ssh tunnel, logged in, and navigated to this notebook. Jupyter notebooks consist of cells that can hold text or code (usually python). This text that you are reading, was written into a text cell as simple text \"coding\" language known as mark-down. When a cell is run (either automatically at start of the notebook or manually by pressing shift-enter), the mark-down text is interpreted into nice looking text. Running a code cell will execute the code in that cell and give you the results. If you make a mistake, you can usually simply change the cell and re-run. But be aware that since you ran the mistaken cell already, whatever code that was properly executed before your mistake/error, was already executed and has therefore changed your current python environment accordingly. In some cases this situation will be problematic, and you will need to rerun the notebook from the start by pressing the \"reload\" botton (next to the \"stop\" button) above.\n",
    "\n",
    "### Python Overview\n",
    "\n",
    "Our first few labs are intended to try to force everyone to learn sufficient python, numpy, and HDF5 to perform some basic tasks. In this very first lab, we will introduce the fundamentals of python language. The following notebooks were copied from [github pages of Rajath Kumar](https://github.com/rajathkmp/Python-Lectures) from Indian Institute of Science, [License](https://creativecommons.org/licenses/by/3.0/). They provide a quick overview of basic python syntax. \n",
    "\n",
    "Carefully read through the following notebooks and familiarize yourself with python. Run the code cells (by pressing shift-enter when in the cell) in the notebooks and make sure you understand the output. \n",
    "\n",
    "   * [Variables, Operators, ...](Python-Lectures/01.ipynb)\n",
    "   * [Print Statements](Python-Lectures/02.ipynb)\n",
    "   * [Data Structures](Python-Lectures/03.ipynb)\n",
    "   * [Strings](Python-Lectures/04.ipynb)\n",
    "   * [Control Flow](Python-Lectures/05.ipynb)\n",
    "   * [Functions](Python-Lectures/06.ipynb)\n",
    "   * [Classes](Python-Lectures/07.ipynb)\n"
   ]
  },
  {
   "cell_type": "markdown",
   "metadata": {
    "collapsed": true
   },
   "source": [
    "### Reading Code\n",
    "\n",
    "Reading and understanding code written by others is an important part of learning to code yourself. Carefully read through these [python exercises](http://www.practicepython.org) and their solutions. Then as practice, pick 3 exercises and solve them in this notebook below. You will be asked next week to solve an exercise in class. \n",
    "\n"
   ]
  },
  {
   "cell_type": "markdown",
   "metadata": {},
   "source": [
    "### 1. Exercise (fill in number here) "
   ]
  },
  {
   "cell_type": "code",
   "execution_count": 2,
   "metadata": {},
   "outputs": [],
   "source": [
    "def reverse_str():\n",
    "    orig_str = input('Type a sentence here: ')\n",
    "    orig_list = orig_str.split(' ')\n",
    "    orig_list.reverse()\n",
    "    back_str = ' '.join(orig_list)\n",
    "    print(\"This is your sentence backwards: \", back_str)"
   ]
  },
  {
   "cell_type": "code",
   "execution_count": 3,
   "metadata": {},
   "outputs": [
    {
     "name": "stdout",
     "output_type": "stream",
     "text": [
      "Type a sentence here: good evening\n",
      "This is your sentence backwards:  evening good\n"
     ]
    }
   ],
   "source": [
    "reverse_str()"
   ]
  },
  {
   "cell_type": "markdown",
   "metadata": {},
   "source": [
    "### 2. Exercise (fill in number here) "
   ]
  },
  {
   "cell_type": "code",
   "execution_count": 16,
   "metadata": {},
   "outputs": [
    {
     "name": "stdout",
     "output_type": "stream",
     "text": [
      "Please enter a number:4\n"
     ]
    },
    {
     "ename": "TypeError",
     "evalue": "not all arguments converted during string formatting",
     "output_type": "error",
     "traceback": [
      "\u001b[1;31m---------------------------------------------------------------------------\u001b[0m",
      "\u001b[1;31mTypeError\u001b[0m                                 Traceback (most recent call last)",
      "\u001b[1;32m<ipython-input-16-60bb0294be99>\u001b[0m in \u001b[0;36m<module>\u001b[1;34m()\u001b[0m\n\u001b[0;32m      1\u001b[0m \u001b[0mnum\u001b[0m \u001b[1;33m=\u001b[0m \u001b[0minput\u001b[0m\u001b[1;33m(\u001b[0m\u001b[1;34m\"Please enter a number:\"\u001b[0m\u001b[1;33m)\u001b[0m\u001b[1;33m\u001b[0m\u001b[0m\n\u001b[1;32m----> 2\u001b[1;33m \u001b[0mrem\u001b[0m \u001b[1;33m=\u001b[0m \u001b[0mnum\u001b[0m\u001b[1;33m%\u001b[0m\u001b[1;36m2\u001b[0m\u001b[1;33m\u001b[0m\u001b[0m\n\u001b[0m\u001b[0;32m      3\u001b[0m \u001b[1;32mif\u001b[0m \u001b[0mrem\u001b[0m \u001b[1;33m==\u001b[0m \u001b[1;36m1\u001b[0m\u001b[1;33m:\u001b[0m\u001b[1;33m\u001b[0m\u001b[0m\n\u001b[0;32m      4\u001b[0m   \u001b[0mprint\u001b[0m\u001b[1;33m(\u001b[0m\u001b[1;33m(\u001b[0m\u001b[1;34m\"Your number %d is an odd number\"\u001b[0m\u001b[1;33m,\u001b[0m \u001b[0mmod\u001b[0m\u001b[1;33m)\u001b[0m\u001b[1;33m)\u001b[0m\u001b[1;33m\u001b[0m\u001b[0m\n\u001b[0;32m      5\u001b[0m \u001b[1;32melse\u001b[0m\u001b[1;33m:\u001b[0m\u001b[1;33m\u001b[0m\u001b[0m\n",
      "\u001b[1;31mTypeError\u001b[0m: not all arguments converted during string formatting"
     ]
    }
   ],
   "source": [
    "num = input(\"Please enter a number:\")\n",
    "rem = num%2\n",
    "if rem == 1:\n",
    "  print((\"Your number %d is an odd number\", mod))\n",
    "else:\n",
    "  print((\"Your number %d is an even number\", mod))"
   ]
  },
  {
   "cell_type": "code",
   "execution_count": 12,
   "metadata": {},
   "outputs": [
    {
     "name": "stdout",
     "output_type": "stream",
     "text": [
      "1\n"
     ]
    }
   ],
   "source": [
    "print(9%2)"
   ]
  },
  {
   "cell_type": "markdown",
   "metadata": {},
   "source": [
    "### 3. Exercise (fill in number here) "
   ]
  },
  {
   "cell_type": "code",
   "execution_count": 7,
   "metadata": {},
   "outputs": [],
   "source": [
    "def fibonacci():\n",
    "    num = int(input('How many Fibonacci numbers would you like to generate? '))\n",
    "    add1 = 1\n",
    "    sequence = [1]\n",
    "    for i in range(num-1):\n",
    "        sequence.append(add1)\n",
    "        add1 = sequence[i] + sequence[i+1]\n",
    "    print (sequence)\n"
   ]
  },
  {
   "cell_type": "code",
   "execution_count": 9,
   "metadata": {},
   "outputs": [
    {
     "name": "stdout",
     "output_type": "stream",
     "text": [
      "How many Fibonacci numbers would you like to generate? 4\n",
      "[1, 1, 2, 3]\n"
     ]
    }
   ],
   "source": [
    "fibonacci ()"
   ]
  },
  {
   "cell_type": "markdown",
   "metadata": {},
   "source": [
    "### Test Yourself\n",
    "\n",
    "Write a function that takes in a string and determines the number of unique words (ignoring capitalization and punctuation) and returns an dictionary where the key of each entry is the word and the value is the number of times the word appears in the string. Demonstrate that your function works by applying it to the introduction paragraph above."
   ]
  },
  {
   "cell_type": "code",
   "execution_count": 10,
   "metadata": {},
   "outputs": [
    {
     "name": "stdout",
     "output_type": "stream",
     "text": [
      "Please enter a string.hello\n"
     ]
    }
   ],
   "source": [
    "sequence = input('Please enter a string.')\n",
    "def count(sequence, item):\n",
    "    return print(sum([1 for elem in sequence if elem ==item]))"
   ]
  },
  {
   "cell_type": "code",
   "execution_count": null,
   "metadata": {},
   "outputs": [],
   "source": []
  }
 ],
 "metadata": {
  "kernelspec": {
   "display_name": "Python 3",
   "language": "python",
   "name": "python3"
  },
  "language_info": {
   "codemirror_mode": {
    "name": "ipython",
    "version": 3
   },
   "file_extension": ".py",
   "mimetype": "text/x-python",
   "name": "python",
   "nbconvert_exporter": "python",
   "pygments_lexer": "ipython3",
   "version": "3.6.4"
  }
 },
 "nbformat": 4,
 "nbformat_minor": 2
}
